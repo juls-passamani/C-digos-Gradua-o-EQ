{
  "nbformat": 4,
  "nbformat_minor": 0,
  "metadata": {
    "colab": {
      "provenance": [],
      "authorship_tag": "ABX9TyNCCGFOaRpYF7z8c42Ss8TE",
      "include_colab_link": true
    },
    "kernelspec": {
      "name": "python3",
      "display_name": "Python 3"
    },
    "language_info": {
      "name": "python"
    }
  },
  "cells": [
    {
      "cell_type": "markdown",
      "metadata": {
        "id": "view-in-github",
        "colab_type": "text"
      },
      "source": [
        "<a href=\"https://colab.research.google.com/github/juls-passamani/C-digos-Gradua-o-EQ/blob/main/Untitled2.ipynb\" target=\"_parent\"><img src=\"https://colab.research.google.com/assets/colab-badge.svg\" alt=\"Open In Colab\"/></a>"
      ]
    },
    {
      "cell_type": "markdown",
      "source": [
        "###Método de Newton"
      ],
      "metadata": {
        "id": "m739qmTUBTEv"
      }
    },
    {
      "cell_type": "markdown",
      "source": [
        "#####Modelo"
      ],
      "metadata": {
        "id": "C0gZNPeUBkiJ"
      }
    },
    {
      "cell_type": "code",
      "execution_count": null,
      "metadata": {
        "colab": {
          "base_uri": "https://localhost:8080/",
          "height": 529
        },
        "id": "Fe-U_8q6BM07",
        "outputId": "45bbce7d-4ac1-4c7c-f906-05d16b8170ff"
      },
      "outputs": [
        {
          "output_type": "stream",
          "name": "stderr",
          "text": [
            "<ipython-input-1-ab98b0af76bd>:9: DeprecationWarning: scipy.misc is deprecated and will be removed in 2.0.0\n",
            "  from scipy import misc\n"
          ]
        },
        {
          "output_type": "stream",
          "name": "stdout",
          "text": [
            "\n",
            "____________________________________________________________\n",
            "\n",
            "MÉTODO DE NEWTON\n",
            "\n",
            "→ lembre-se de alterar a função pelo código :D\n",
            "\n",
            "____________________________________________________________\n"
          ]
        },
        {
          "output_type": "error",
          "ename": "KeyboardInterrupt",
          "evalue": "Interrupted by user",
          "traceback": [
            "\u001b[0;31m---------------------------------------------------------------------------\u001b[0m",
            "\u001b[0;31mKeyboardInterrupt\u001b[0m                         Traceback (most recent call last)",
            "\u001b[0;32m<ipython-input-1-ab98b0af76bd>\u001b[0m in \u001b[0;36m<cell line: 0>\u001b[0;34m()\u001b[0m\n\u001b[1;32m     15\u001b[0m \u001b[0;34m\u001b[0m\u001b[0m\n\u001b[1;32m     16\u001b[0m \u001b[0;31m#Entrada de dados pelo console\u001b[0m\u001b[0;34m\u001b[0m\u001b[0;34m\u001b[0m\u001b[0m\n\u001b[0;32m---> 17\u001b[0;31m \u001b[0mx0\u001b[0m \u001b[0;34m=\u001b[0m \u001b[0mfloat\u001b[0m\u001b[0;34m(\u001b[0m\u001b[0minput\u001b[0m\u001b[0;34m(\u001b[0m\u001b[0;34m\"\\nChute inicial = \"\u001b[0m\u001b[0;34m)\u001b[0m\u001b[0;34m)\u001b[0m\u001b[0;34m\u001b[0m\u001b[0;34m\u001b[0m\u001b[0m\n\u001b[0m\u001b[1;32m     18\u001b[0m \u001b[0me\u001b[0m \u001b[0;34m=\u001b[0m \u001b[0mfloat\u001b[0m\u001b[0;34m(\u001b[0m\u001b[0minput\u001b[0m\u001b[0;34m(\u001b[0m\u001b[0;34m\"\\nTolerância = \"\u001b[0m\u001b[0;34m)\u001b[0m\u001b[0;34m)\u001b[0m\u001b[0;34m\u001b[0m\u001b[0;34m\u001b[0m\u001b[0m\n\u001b[1;32m     19\u001b[0m \u001b[0mprint\u001b[0m\u001b[0;34m(\u001b[0m\u001b[0;34m\"\\n\"\u001b[0m \u001b[0;34m+\u001b[0m \u001b[0;34m\"_\"\u001b[0m \u001b[0;34m*\u001b[0m \u001b[0;36m60\u001b[0m\u001b[0;34m)\u001b[0m\u001b[0;34m\u001b[0m\u001b[0;34m\u001b[0m\u001b[0m\n",
            "\u001b[0;32m/usr/local/lib/python3.11/dist-packages/ipykernel/kernelbase.py\u001b[0m in \u001b[0;36mraw_input\u001b[0;34m(self, prompt)\u001b[0m\n\u001b[1;32m   1175\u001b[0m                 \u001b[0;34m\"raw_input was called, but this frontend does not support input requests.\"\u001b[0m\u001b[0;34m\u001b[0m\u001b[0;34m\u001b[0m\u001b[0m\n\u001b[1;32m   1176\u001b[0m             )\n\u001b[0;32m-> 1177\u001b[0;31m         return self._input_request(\n\u001b[0m\u001b[1;32m   1178\u001b[0m             \u001b[0mstr\u001b[0m\u001b[0;34m(\u001b[0m\u001b[0mprompt\u001b[0m\u001b[0;34m)\u001b[0m\u001b[0;34m,\u001b[0m\u001b[0;34m\u001b[0m\u001b[0;34m\u001b[0m\u001b[0m\n\u001b[1;32m   1179\u001b[0m             \u001b[0mself\u001b[0m\u001b[0;34m.\u001b[0m\u001b[0m_parent_ident\u001b[0m\u001b[0;34m[\u001b[0m\u001b[0;34m\"shell\"\u001b[0m\u001b[0;34m]\u001b[0m\u001b[0;34m,\u001b[0m\u001b[0;34m\u001b[0m\u001b[0;34m\u001b[0m\u001b[0m\n",
            "\u001b[0;32m/usr/local/lib/python3.11/dist-packages/ipykernel/kernelbase.py\u001b[0m in \u001b[0;36m_input_request\u001b[0;34m(self, prompt, ident, parent, password)\u001b[0m\n\u001b[1;32m   1217\u001b[0m             \u001b[0;32mexcept\u001b[0m \u001b[0mKeyboardInterrupt\u001b[0m\u001b[0;34m:\u001b[0m\u001b[0;34m\u001b[0m\u001b[0;34m\u001b[0m\u001b[0m\n\u001b[1;32m   1218\u001b[0m                 \u001b[0;31m# re-raise KeyboardInterrupt, to truncate traceback\u001b[0m\u001b[0;34m\u001b[0m\u001b[0;34m\u001b[0m\u001b[0m\n\u001b[0;32m-> 1219\u001b[0;31m                 \u001b[0;32mraise\u001b[0m \u001b[0mKeyboardInterrupt\u001b[0m\u001b[0;34m(\u001b[0m\u001b[0;34m\"Interrupted by user\"\u001b[0m\u001b[0;34m)\u001b[0m \u001b[0;32mfrom\u001b[0m \u001b[0;32mNone\u001b[0m\u001b[0;34m\u001b[0m\u001b[0;34m\u001b[0m\u001b[0m\n\u001b[0m\u001b[1;32m   1220\u001b[0m             \u001b[0;32mexcept\u001b[0m \u001b[0mException\u001b[0m\u001b[0;34m:\u001b[0m\u001b[0;34m\u001b[0m\u001b[0;34m\u001b[0m\u001b[0m\n\u001b[1;32m   1221\u001b[0m                 \u001b[0mself\u001b[0m\u001b[0;34m.\u001b[0m\u001b[0mlog\u001b[0m\u001b[0;34m.\u001b[0m\u001b[0mwarning\u001b[0m\u001b[0;34m(\u001b[0m\u001b[0;34m\"Invalid Message:\"\u001b[0m\u001b[0;34m,\u001b[0m \u001b[0mexc_info\u001b[0m\u001b[0;34m=\u001b[0m\u001b[0;32mTrue\u001b[0m\u001b[0;34m)\u001b[0m\u001b[0;34m\u001b[0m\u001b[0;34m\u001b[0m\u001b[0m\n",
            "\u001b[0;31mKeyboardInterrupt\u001b[0m: Interrupted by user"
          ]
        }
      ],
      "source": [
        "# -*- coding: utf-8 -*-\n",
        "\"\"\"\n",
        "Created on Thu May 29 17:47:16 2025\n",
        "\n",
        "@author: jpfab\n",
        "\"\"\"\n",
        "\n",
        "import numpy as np\n",
        "from scipy import misc\n",
        "\n",
        "print(\"\\n\" + \"_\" * 60)\n",
        "print(\"\\nMÉTODO DE NEWTON\")\n",
        "print(\"\\n\\u2192 lembre-se de alterar a função pelo código :D\")\n",
        "print(\"\\n\" + \"_\" * 60)\n",
        "\n",
        "#Entrada de dados pelo console\n",
        "x0 = float(input(\"\\nChute inicial = \"))\n",
        "e = float(input(\"\\nTolerância = \"))\n",
        "print(\"\\n\" + \"_\" * 60)\n",
        "\n",
        "\"\"\"\n",
        "#Entrada de dados pelo código\n",
        "x0, e =\n",
        "\"\"\"\n",
        "\n",
        "#Função\n",
        "def f(x):\n",
        "    return 225 * (np.e ** (-x/ 2)) - 75\n",
        "\n",
        "#df/dx\n",
        "def d(x):\n",
        "    dx = 1e-10\n",
        "    return misc.derivative(f, x, dx)\n",
        "\n",
        "#Processo iterativo via Newton\n",
        "xi = x0 - (f(x0)/d(x0))\n",
        "cont = 1\n",
        "it_max = 100\n",
        "print (f\"\\n{cont}ª Iteração: \\t x = {xi: .4f} \\t f(x) = {f(xi): .4f}\")\n",
        "\n",
        "while abs(f(xi)) > e:\n",
        "    if cont > it_max:\n",
        "        print(\"Nº de iterações máximo atingido! Encerrando...\")\n",
        "        break\n",
        "\n",
        "    else:\n",
        "        xi -= (f(xi)/d(xi))\n",
        "        cont += 1\n",
        "        print(f\"\\n{cont}ª Iteração: \\t x = {xi: .4f} \\t f(x) = {f(xi): .4f}\")\n",
        "\n",
        "print(\"\\n\" + \"_\" * 60)\n",
        "print(\"\\nResultado:\")\n",
        "print(f\"\\nx = {xi: .4f}\")\n",
        "print(f\"\\nf(x) = {f(xi): .4f}\")\n",
        "print(\"\\n\" + \"_\" * 60)"
      ]
    },
    {
      "cell_type": "markdown",
      "source": [
        "#####Atividade 1"
      ],
      "metadata": {
        "id": "7aWfy-d6BqFN"
      }
    },
    {
      "cell_type": "markdown",
      "source": [
        "F(t) = 100/(1 + 9e −t/2 )"
      ],
      "metadata": {
        "id": "5AjcbZ_TBufs"
      }
    },
    {
      "cell_type": "code",
      "source": [
        "# -*- coding: utf-8 -*-\n",
        "\"\"\"\n",
        "Created on Thu May 29 17:47:16 2025\n",
        "\n",
        "@author: jpfab\n",
        "\"\"\"\n",
        "\n",
        "import numpy as np\n",
        "from scipy import misc\n",
        "\n",
        "print(\"\\n\" + \"_\" * 60)\n",
        "print(\"\\nMÉTODO DE NEWTON\")\n",
        "print(\"\\n\\u2192 lembre-se de alterar a função pelo código :D\")\n",
        "print(\"\\n\" + \"_\" * 60)\n",
        "\n",
        "#Entrada de dados pelo console\n",
        "x0 = float(input(\"\\nChute inicial = \"))\n",
        "e = float(input(\"\\nTolerância = \"))\n",
        "print(\"\\n\" + \"_\" * 60)\n",
        "\n",
        "\"\"\"\n",
        "#Entrada de dados pelo código\n",
        "x0, e =\n",
        "\"\"\"\n",
        "\n",
        "#Função\n",
        "def f(x):\n",
        "    return 100/(1 + 9 * (np.e ** (-x/ 2)))\n",
        "\n",
        "#df/dx\n",
        "def d(x):\n",
        "    dx = 1e-10\n",
        "    return misc.derivative(f, x, dx)\n",
        "\n",
        "#Processo iterativo via Newton\n",
        "xi = x0 - (f(x0)/d(x0))\n",
        "cont = 1\n",
        "it_max = 100\n",
        "print (f\"\\n{cont}ª Iteração: \\t x = {xi: .4f} \\t f(x) = {f(xi): .4f}\")\n",
        "\n",
        "while abs(f(xi)) > e:\n",
        "    if cont > it_max:\n",
        "        print(\"Nº de iterações máximo atingido! Encerrando...\")\n",
        "        break\n",
        "\n",
        "    else:\n",
        "        xi -= (f(xi)/d(xi))\n",
        "        cont += 1\n",
        "        print(f\"\\n{cont}ª Iteração: \\t x = {xi: .4f} \\t f(x) = {f(xi): .4f}\")\n",
        "\n",
        "print(\"\\n\" + \"_\" * 60)\n",
        "print(\"\\nResultado:\")\n",
        "print(f\"\\nx = {xi: .4f}\")\n",
        "print(f\"\\nf(x) = {f(xi): .4f}\")\n",
        "print(\"\\n\" + \"_\" * 60)"
      ],
      "metadata": {
        "colab": {
          "base_uri": "https://localhost:8080/",
          "height": 529
        },
        "id": "HZoExJdoB0dN",
        "outputId": "5173c828-46db-4054-ef07-16c0f00d81c0"
      },
      "execution_count": null,
      "outputs": [
        {
          "name": "stdout",
          "output_type": "stream",
          "text": [
            "\n",
            "____________________________________________________________\n",
            "\n",
            "MÉTODO DE NEWTON\n",
            "\n",
            "→ lembre-se de alterar a função pelo código :D\n",
            "\n",
            "____________________________________________________________\n",
            "\n",
            "Chute inicial = 1\n"
          ]
        },
        {
          "output_type": "error",
          "ename": "KeyboardInterrupt",
          "evalue": "Interrupted by user",
          "traceback": [
            "\u001b[0;31m---------------------------------------------------------------------------\u001b[0m",
            "\u001b[0;31mKeyboardInterrupt\u001b[0m                         Traceback (most recent call last)",
            "\u001b[0;32m<ipython-input-2-1bca49696c2b>\u001b[0m in \u001b[0;36m<cell line: 0>\u001b[0;34m()\u001b[0m\n\u001b[1;32m     16\u001b[0m \u001b[0;31m#Entrada de dados pelo console\u001b[0m\u001b[0;34m\u001b[0m\u001b[0;34m\u001b[0m\u001b[0m\n\u001b[1;32m     17\u001b[0m \u001b[0mx0\u001b[0m \u001b[0;34m=\u001b[0m \u001b[0mfloat\u001b[0m\u001b[0;34m(\u001b[0m\u001b[0minput\u001b[0m\u001b[0;34m(\u001b[0m\u001b[0;34m\"\\nChute inicial = \"\u001b[0m\u001b[0;34m)\u001b[0m\u001b[0;34m)\u001b[0m\u001b[0;34m\u001b[0m\u001b[0;34m\u001b[0m\u001b[0m\n\u001b[0;32m---> 18\u001b[0;31m \u001b[0me\u001b[0m \u001b[0;34m=\u001b[0m \u001b[0mfloat\u001b[0m\u001b[0;34m(\u001b[0m\u001b[0minput\u001b[0m\u001b[0;34m(\u001b[0m\u001b[0;34m\"\\nTolerância = \"\u001b[0m\u001b[0;34m)\u001b[0m\u001b[0;34m)\u001b[0m\u001b[0;34m\u001b[0m\u001b[0;34m\u001b[0m\u001b[0m\n\u001b[0m\u001b[1;32m     19\u001b[0m \u001b[0mprint\u001b[0m\u001b[0;34m(\u001b[0m\u001b[0;34m\"\\n\"\u001b[0m \u001b[0;34m+\u001b[0m \u001b[0;34m\"_\"\u001b[0m \u001b[0;34m*\u001b[0m \u001b[0;36m60\u001b[0m\u001b[0;34m)\u001b[0m\u001b[0;34m\u001b[0m\u001b[0;34m\u001b[0m\u001b[0m\n\u001b[1;32m     20\u001b[0m \u001b[0;34m\u001b[0m\u001b[0m\n",
            "\u001b[0;32m/usr/local/lib/python3.11/dist-packages/ipykernel/kernelbase.py\u001b[0m in \u001b[0;36mraw_input\u001b[0;34m(self, prompt)\u001b[0m\n\u001b[1;32m   1175\u001b[0m                 \u001b[0;34m\"raw_input was called, but this frontend does not support input requests.\"\u001b[0m\u001b[0;34m\u001b[0m\u001b[0;34m\u001b[0m\u001b[0m\n\u001b[1;32m   1176\u001b[0m             )\n\u001b[0;32m-> 1177\u001b[0;31m         return self._input_request(\n\u001b[0m\u001b[1;32m   1178\u001b[0m             \u001b[0mstr\u001b[0m\u001b[0;34m(\u001b[0m\u001b[0mprompt\u001b[0m\u001b[0;34m)\u001b[0m\u001b[0;34m,\u001b[0m\u001b[0;34m\u001b[0m\u001b[0;34m\u001b[0m\u001b[0m\n\u001b[1;32m   1179\u001b[0m             \u001b[0mself\u001b[0m\u001b[0;34m.\u001b[0m\u001b[0m_parent_ident\u001b[0m\u001b[0;34m[\u001b[0m\u001b[0;34m\"shell\"\u001b[0m\u001b[0;34m]\u001b[0m\u001b[0;34m,\u001b[0m\u001b[0;34m\u001b[0m\u001b[0;34m\u001b[0m\u001b[0m\n",
            "\u001b[0;32m/usr/local/lib/python3.11/dist-packages/ipykernel/kernelbase.py\u001b[0m in \u001b[0;36m_input_request\u001b[0;34m(self, prompt, ident, parent, password)\u001b[0m\n\u001b[1;32m   1217\u001b[0m             \u001b[0;32mexcept\u001b[0m \u001b[0mKeyboardInterrupt\u001b[0m\u001b[0;34m:\u001b[0m\u001b[0;34m\u001b[0m\u001b[0;34m\u001b[0m\u001b[0m\n\u001b[1;32m   1218\u001b[0m                 \u001b[0;31m# re-raise KeyboardInterrupt, to truncate traceback\u001b[0m\u001b[0;34m\u001b[0m\u001b[0;34m\u001b[0m\u001b[0m\n\u001b[0;32m-> 1219\u001b[0;31m                 \u001b[0;32mraise\u001b[0m \u001b[0mKeyboardInterrupt\u001b[0m\u001b[0;34m(\u001b[0m\u001b[0;34m\"Interrupted by user\"\u001b[0m\u001b[0;34m)\u001b[0m \u001b[0;32mfrom\u001b[0m \u001b[0;32mNone\u001b[0m\u001b[0;34m\u001b[0m\u001b[0;34m\u001b[0m\u001b[0m\n\u001b[0m\u001b[1;32m   1220\u001b[0m             \u001b[0;32mexcept\u001b[0m \u001b[0mException\u001b[0m\u001b[0;34m:\u001b[0m\u001b[0;34m\u001b[0m\u001b[0;34m\u001b[0m\u001b[0m\n\u001b[1;32m   1221\u001b[0m                 \u001b[0mself\u001b[0m\u001b[0;34m.\u001b[0m\u001b[0mlog\u001b[0m\u001b[0;34m.\u001b[0m\u001b[0mwarning\u001b[0m\u001b[0;34m(\u001b[0m\u001b[0;34m\"Invalid Message:\"\u001b[0m\u001b[0;34m,\u001b[0m \u001b[0mexc_info\u001b[0m\u001b[0;34m=\u001b[0m\u001b[0;32mTrue\u001b[0m\u001b[0;34m)\u001b[0m\u001b[0;34m\u001b[0m\u001b[0;34m\u001b[0m\u001b[0m\n",
            "\u001b[0;31mKeyboardInterrupt\u001b[0m: Interrupted by user"
          ]
        }
      ]
    },
    {
      "cell_type": "markdown",
      "source": [
        "###Eliminação de Gauss"
      ],
      "metadata": {
        "id": "mFvo07z-FX7K"
      }
    },
    {
      "cell_type": "code",
      "source": [
        "# -*- coding: utf-8 -*-\n",
        "\"\"\"\n",
        "Created on Thu May 29 18:02:01 2025\n",
        "\n",
        "@author: jpfab\n",
        "\"\"\"\n",
        "\n",
        "import numpy as np\n",
        "\n",
        "print(\"\\n\" + \"_\" * 60)\n",
        "print(\"\\nELIMINAÇÃO DE GAUSS\")\n",
        "print(\"\\n\\u2192 método direto para sistemas lineares :)\")\n",
        "\n",
        "\"\"\"\n",
        "#Entrada de dados pelo console\n",
        "print(\"\\n\" + \"_\" * 60)\n",
        "N = int(input(\"\\nNº de variáveis = \"))\n",
        "A = np.zeros((N, N))\n",
        "b = np.zeros(N)\n",
        "\n",
        "for i in range(N):\n",
        "    print()\n",
        "    for j in range(N):\n",
        "            A[i, j] = float(input(f\"a{i + 1}{j + 1} = \"))\n",
        "    b[i] = float(input(f\"b{i + 1} = \"))\n",
        "\"\"\"\n",
        "\n",
        "#Entrada de dados pelo código\n",
        "A = np.array([[3, 2, 4],[1, 1, 2],[2, 3, -2]], dtype = float)\n",
        "b = np.array([1, 2, 3], dtype = float)\n",
        "N = len(b)\n",
        "\n",
        "#Imprime A e b\n",
        "print(\"\\n\" + \"_\" * 60)\n",
        "print(\"\\nMatrizes originais:\\n\\nA0 =\")\n",
        "print(A)\n",
        "print(\"\\nb0 =\")\n",
        "print(b.reshape(-1, 1))\n",
        "print(\"\\n\" + \"_\" * 60)\n",
        "\n",
        "#Eliminação de gauss\n",
        "for it in range(N - 1):\n",
        "    if A[it, it] == 0:\n",
        "        raise ZeroDivisionError(\"{it + 1}º Pivô nulo!\")\n",
        "    else:\n",
        "        p = A[it, it]\n",
        "        print(f\"\\n{it + 1}ª Etapa:\\n\\nPivô: = {p: .4f}\")\n",
        "        for i in range(it + 1, N):\n",
        "            m = A[i, it] / p\n",
        "            print(f\"\\nm{i + 1}{it + 1} = {m: .4f}\")\n",
        "            for j in range(it, N):\n",
        "                A[i, j] = A[i, j] - m * A[it, j]\n",
        "            b[i] -= m * b[it]\n",
        "        print(\"\\nA{it + 1} =\")\n",
        "        print(np.round(A, 4))\n",
        "        print(f\"\\nb{it + 1} =\")\n",
        "        print(np.round(b.reshape(-1, 1), 4))\n",
        "        print(\"\\n\" + \"_\" * 60)\n",
        "\n",
        "#Substituição retroativa\n",
        "x = np.zeros(N)\n",
        "for i in range(N - 1, -1, -1):\n",
        "    x[i] = b[i]\n",
        "    for j in range(i + 1, N):\n",
        "        x[i] -= A[i, j] * x[j]\n",
        "    x[i] = x[i] / A[i, i]\n",
        "\n",
        "print(\"\\nResultado:\")\n",
        "print(\"\\nx =\")\n",
        "print(np.round(x.reshape(-1, 1), 4))\n",
        "print(\"\\n\" + \"_\" * 60)"
      ],
      "metadata": {
        "id": "YwO7GjoQFcRX"
      },
      "execution_count": null,
      "outputs": []
    },
    {
      "cell_type": "code",
      "source": [
        "# -*- coding: utf-8 -*-\n",
        "\"\"\"\n",
        "Created on Thu May 29 18:02:01 2025\n",
        "\n",
        "@author: jpfab\n",
        "\"\"\"\n",
        "\n",
        "import numpy as np\n",
        "\n",
        "print(\"\\n\" + \"_\" * 60)\n",
        "print(\"\\nELIMINAÇÃO DE GAUSS\")\n",
        "print(\"\\n\\u2192 método direto para sistemas lineares :)\")\n",
        "\n",
        "\"\"\"\n",
        "#Entrada de dados pelo console\n",
        "print(\"\\n\" + \"_\" * 60)\n",
        "N = int(input(\"\\nNº de variáveis = \"))\n",
        "A = np.zeros((N, N))\n",
        "b = np.zeros(N)\n",
        "\n",
        "for i in range(N):\n",
        "    print()\n",
        "    for j in range(N):\n",
        "            A[i, j] = float(input(f\"a{i + 1}{j + 1} = \"))\n",
        "    b[i] = float(input(f\"b{i + 1} = \"))\n",
        "\"\"\"\n",
        "\n",
        "#Entrada de dados pelo código\n",
        "A = np.array([[0.0002, -2],[2, -2]], dtype = float)\n",
        "b = np.array([5, 6], dtype = float)\n",
        "N = len(b)\n",
        "\n",
        "#Imprime A e b\n",
        "print(\"\\n\" + \"_\" * 60)\n",
        "print(\"\\nMatrizes originais:\\n\\nA0 =\")\n",
        "print(A)\n",
        "print(\"\\nb0 =\")\n",
        "print(b.reshape(-1, 1))\n",
        "print(\"\\n\" + \"_\" * 60)\n",
        "\n",
        "#Eliminação de gauss\n",
        "for it in range(N - 1):\n",
        "    if A[it, it] == 0:\n",
        "        raise ZeroDivisionError(\"{it + 1}º Pivô nulo!\")\n",
        "    else:\n",
        "        p = A[it, it]\n",
        "        print(f\"\\n{it + 1}ª Etapa:\\n\\nPivô: = {p: .4f}\")\n",
        "        for i in range(it + 1, N):\n",
        "            m = A[i, it] / p\n",
        "            print(f\"\\nm{i + 1}{it + 1} = {m: .4f}\")\n",
        "            for j in range(it, N):\n",
        "                A[i, j] = A[i, j] - m * A[it, j]\n",
        "            b[i] -= m * b[it]\n",
        "        print(\"\\nA{it + 1} =\")\n",
        "        print(np.round(A, 4))\n",
        "        print(f\"\\nb{it + 1} =\")\n",
        "        print(np.round(b.reshape(-1, 1), 4))\n",
        "        print(\"\\n\" + \"_\" * 60)\n",
        "\n",
        "#Substituição retroativa\n",
        "x = np.zeros(N)\n",
        "for i in range(N - 1, -1, -1):\n",
        "    x[i] = b[i]\n",
        "    for j in range(i + 1, N):\n",
        "        x[i] -= A[i, j] * x[j]\n",
        "    x[i] = x[i] / A[i, i]\n",
        "\n",
        "print(\"\\nResultado:\")\n",
        "print(\"\\nx =\")\n",
        "print(np.round(x.reshape(-1, 1), 4))\n",
        "print(\"\\n\" + \"_\" * 60)"
      ],
      "metadata": {
        "colab": {
          "base_uri": "https://localhost:8080/"
        },
        "id": "VQ6php7TFz4v",
        "outputId": "deba2431-9683-4b07-ae07-13ae1da20d30"
      },
      "execution_count": null,
      "outputs": [
        {
          "output_type": "stream",
          "name": "stdout",
          "text": [
            "\n",
            "____________________________________________________________\n",
            "\n",
            "ELIMINAÇÃO DE GAUSS\n",
            "\n",
            "→ método direto para sistemas lineares :)\n",
            "\n",
            "____________________________________________________________\n",
            "\n",
            "Matrizes originais:\n",
            "\n",
            "A0 =\n",
            "[[ 2.e-04 -2.e+00]\n",
            " [ 2.e+00 -2.e+00]]\n",
            "\n",
            "b0 =\n",
            "[[5.]\n",
            " [6.]]\n",
            "\n",
            "____________________________________________________________\n",
            "\n",
            "1ª Etapa:\n",
            "\n",
            "Pivô: =  0.0002\n",
            "\n",
            "m21 =  10000.0000\n",
            "\n",
            "A{it + 1} =\n",
            "[[ 2.0000e-04 -2.0000e+00]\n",
            " [ 0.0000e+00  1.9998e+04]]\n",
            "\n",
            "b1 =\n",
            "[[ 5.0000e+00]\n",
            " [-4.9994e+04]]\n",
            "\n",
            "____________________________________________________________\n",
            "\n",
            "Resultado:\n",
            "\n",
            "x =\n",
            "[[ 0.5001]\n",
            " [-2.4999]]\n",
            "\n",
            "____________________________________________________________\n"
          ]
        }
      ]
    }
  ]
}